{
 "cells": [
  {
   "cell_type": "markdown",
   "metadata": {},
   "source": [
    "code from fast.ai https://github.com/fastai/fastai/blob/master/courses/dl2/imdb.ipynb\n",
    "\n",
    "language models were trained using code and instructions from here https://github.com/fastai/fastai/tree/master/courses/dl2/imdb_scripts\n",
    "\n",
    "**Uses older fastai library version - https://forums.fast.ai/t/fastai-v0-7-install-issues-thread/24652 installation**"
   ]
  },
  {
   "cell_type": "code",
   "execution_count": 2,
   "metadata": {},
   "outputs": [],
   "source": [
    "import _pickle as pickle, pandas as pd, numpy as np\n",
    "from tqdm import tqdm\n",
    "from pathlib import Path"
   ]
  },
  {
   "cell_type": "markdown",
   "metadata": {},
   "source": [
    "## Load data\n",
    "Read data and split it into test and train datasets.<br>"
   ]
  },
  {
   "cell_type": "code",
   "execution_count": 8,
   "metadata": {},
   "outputs": [],
   "source": [
    "uk_annotation = pd.read_csv('../uk_annotation.csv')\n",
    "ru_annotation = pd.read_csv('../ru_annotation.csv')\n",
    "\n",
    "htmls = pd.read_json('../htmls_sample.jl.bz2', lines=True, chunksize=10000)"
   ]
  },
  {
   "cell_type": "code",
   "execution_count": 9,
   "metadata": {},
   "outputs": [
    {
     "name": "stdout",
     "output_type": "stream",
     "text": [
      "13it [01:41,  7.68s/it]\n"
     ]
    }
   ],
   "source": [
    "uk_ids = []; ru_ids = []\n",
    "for df in tqdm(htmls):\n",
    "    uk_ids.append(\n",
    "        df.loc[df.html_id.isin(uk_annotation.html_id)].copy(\n",
    "         ).reindex(['html_id', 'word_ids'], axis=1)\n",
    "    )\n",
    "    ru_ids.append(\n",
    "        df.loc[df.html_id.isin(ru_annotation.html_id)].copy(\n",
    "         ).reindex(['html_id', 'word_ids'], axis=1)\n",
    "    )\n",
    "    \n",
    "uk_ids = pd.concat(uk_ids, ignore_index=True\n",
    "                  ).merge(uk_annotation, on='html_id', how='left'\n",
    "                  ).sample(frac=1)\n",
    "ru_ids = pd.concat(ru_ids, ignore_index=True\n",
    "                  ).merge(ru_annotation, on='html_id', how='left'\n",
    "                  ).sample(frac=1)\n",
    "\n",
    "del uk_annotation, ru_annotation"
   ]
  },
  {
   "cell_type": "code",
   "execution_count": 10,
   "metadata": {},
   "outputs": [],
   "source": [
    "ru_train_test_mask = np.random.choice([True, False], len(ru_ids), p=[0.2, 0.8])\n",
    "uk_train_test_mask = np.random.choice([True, False], len(uk_ids), p=[0.2, 0.8])\n",
    "\n",
    "# ids - lists of token ids in text\n",
    "ru_trn_ids = ru_ids.word_ids.values[~ru_train_test_mask]\n",
    "ru_val_ids = ru_ids.word_ids.values[ru_train_test_mask]\n",
    "uk_trn_ids = uk_ids.word_ids.values[~uk_train_test_mask]\n",
    "uk_val_ids = uk_ids.word_ids.values[uk_train_test_mask]\n",
    "\n",
    "#labels\n",
    "ru_trn_lab = ru_ids[['is_emo', 'is_arg', 'is_other']].values[~ru_train_test_mask]\n",
    "ru_val_lab = ru_ids[['is_emo', 'is_arg', 'is_other']].values[ru_train_test_mask]\n",
    "uk_trn_lab = uk_ids[['is_emo', 'is_arg', 'is_other']].values[~uk_train_test_mask]\n",
    "uk_val_lab = uk_ids[['is_emo', 'is_arg', 'is_other']].values[uk_train_test_mask]"
   ]
  },
  {
   "cell_type": "code",
   "execution_count": 11,
   "metadata": {},
   "outputs": [],
   "source": [
    "with open('itos_ru.pkl', 'rb') as f:\n",
    "    itos_ru = pickle.load(f)\n",
    "with open('itos_uk.pkl', 'rb') as f:\n",
    "    itos_uk = pickle.load(f)"
   ]
  },
  {
   "cell_type": "markdown",
   "metadata": {},
   "source": [
    "## Relevant - irrelevant classifier\n",
    "Classify relevant news (Ukrainian politics, economy, important social issues) from irrelevant (sport, weather, celebrities)"
   ]
  },
  {
   "cell_type": "code",
   "execution_count": 12,
   "metadata": {},
   "outputs": [],
   "source": [
    "from fastai.text import *"
   ]
  },
  {
   "cell_type": "code",
   "execution_count": 13,
   "metadata": {},
   "outputs": [],
   "source": [
    "softmax = lambda x : np.exp(x)/np.sum(np.exp(x)) # softmax activation\n",
    "sigm = lambda x: 1 / (1 + np.exp(-x))\n",
    "sigmv = np.vectorize(sigm)"
   ]
  },
  {
   "cell_type": "markdown",
   "metadata": {},
   "source": [
    "### ru"
   ]
  },
  {
   "cell_type": "code",
   "execution_count": 4,
   "metadata": {},
   "outputs": [],
   "source": [
    "CLAS_PATH = Path('ru/')\n",
    "# reads and saves models from this forlder / models"
   ]
  },
  {
   "cell_type": "code",
   "execution_count": null,
   "metadata": {},
   "outputs": [],
   "source": [
    "bptt,em_sz,nh,nl = 70,400,1150,3 # bptt - numper of tokens that model prosesses at once; em - embedding size\n",
    "# nh - n of cells in LSTM layers in pre-trained language model\n",
    "# nl - n of LSTM layers in language model\n",
    "vs = len(itos_ru) # len of token dictionary\n",
    "bs = 8 # batch size - reduce in case of memory error\n",
    "c = 2 # n of categories"
   ]
  },
  {
   "cell_type": "markdown",
   "metadata": {},
   "source": [
    "Data in fastai format. Sortish sampler groups texts of same length in batch, so there will be less padding"
   ]
  },
  {
   "cell_type": "code",
   "execution_count": 11,
   "metadata": {},
   "outputs": [],
   "source": [
    "trn_ds = TextDataset(ru_trn_ids, ru_trn_lab[:, -1])\n",
    "val_ds = TextDataset(ru_val_ids, ru_val_lab[:, -1])\n",
    "trn_samp = SortishSampler(ru_trn_ids, key=lambda x: len(ru_trn_ids[x]), bs=bs//2)\n",
    "val_samp = SortSampler(ru_val_ids, key=lambda x: len(ru_val_ids[x]))\n",
    "trn_dl = DataLoader(trn_ds, bs//2, transpose=True, num_workers=1, pad_idx=1, sampler=trn_samp)\n",
    "val_dl = DataLoader(val_ds, bs, transpose=True, num_workers=1, pad_idx=1, sampler=val_samp)\n",
    "md = ModelData(CLAS_PATH, trn_dl, val_dl)"
   ]
  },
  {
   "cell_type": "code",
   "execution_count": 31,
   "metadata": {},
   "outputs": [],
   "source": [
    "dps = np.array([0.4,0.5,0.05,0.3,0.4])*0.6 # dropouts for each level, increased comparing to default\n",
    "\n",
    "# model definition\n",
    "m = get_rnn_classifier(bptt, 15*70, c, vs, emb_sz=em_sz,\n",
    "                       n_hid=nh, n_layers=nl,\n",
    "                       pad_token=1, #token for padding\n",
    "                       #final layer. max and average pooling of LSTM states, and the last state\n",
    "                       layers=[em_sz*3, 50, c], \n",
    "                       # dropouts\n",
    "                       drops=[dps[4], 0.2],\n",
    "                       dropouti=dps[0],\n",
    "                       wdrop=dps[1],\n",
    "                       dropoute=dps[2],\n",
    "                       dropouth=dps[3])\n",
    "\n",
    "opt_fn = partial(optim.Adam, betas=(0.7, 0.99)) # Adam optimizer\n",
    "\n",
    "learn = RNN_Learner(md, TextModel(to_gpu(m)), opt_fn=opt_fn)\n",
    "learn.reg_fn = partial(seq2seq_reg, alpha=2, beta=1)\n",
    "learn.clip=25. # maximum value of weights, left as default\n",
    "learn.metrics = [accuracy]"
   ]
  },
  {
   "cell_type": "code",
   "execution_count": 32,
   "metadata": {},
   "outputs": [],
   "source": [
    "# learning rates\n",
    "lr=3e-3\n",
    "lrs=np.array([1e-4,1e-4,1e-4,1e-3,1e-2])\n",
    "\n",
    "wd = 1e-7 # weight decay\n",
    "learn.load_encoder('fwd_ru_finetuned_lm_enc') # load pretrained language model encoder\n",
    "learn.freeze_to(-1) # freeze all layers (trained), except for the last feed-dorward one (randomly initialized)"
   ]
  },
  {
   "cell_type": "code",
   "execution_count": null,
   "metadata": {},
   "outputs": [],
   "source": [
    "# finds the best learning rate\n",
    "learn.lr_find(lrs/1000)\n",
    "learn.sched.plot()"
   ]
  },
  {
   "cell_type": "code",
   "execution_count": null,
   "metadata": {},
   "outputs": [],
   "source": [
    "# training. 'use_wd_sched' tweaks weight regularisation, as described here\n",
    "# https://forums.fast.ai/t/new-adamw-optimizer-now-available/8518\n",
    "# clr decreases learning rate during training\n",
    "learn.fit(lrs, 1, wds=wd, cycle_len=1, use_clr=(8, 3), use_wd_sched=True)\n",
    "learn.sched.plot_loss()\n",
    "learn.save('ru_test_other_0')"
   ]
  },
  {
   "cell_type": "code",
   "execution_count": null,
   "metadata": {},
   "outputs": [],
   "source": [
    "learn.load('ru_test_other_0')\n",
    "learn.freeze_to(-2) # more unfreezing\n",
    "\n",
    "learn.fit(lrs, 1, wds=wd, cycle_len=1, use_clr=(8,3), use_wd_sched=True)\n",
    "learn.sched.plot_loss()\n",
    "learn.save('ru_test_other_1')"
   ]
  },
  {
   "cell_type": "code",
   "execution_count": null,
   "metadata": {},
   "outputs": [],
   "source": [
    "learn.load('ru_test_other_1')\n",
    "learn.unfreeze()\n",
    "\n",
    "learn.fit(lrs, 1, wds=wd, cycle_len=3, use_clr=(32,10), use_wd_sched=True)\n",
    "learn.sched.plot_loss()\n",
    "learn.save('ru_test_other_2')"
   ]
  },
  {
   "cell_type": "markdown",
   "metadata": {},
   "source": [
    "#### predict"
   ]
  },
  {
   "cell_type": "code",
   "execution_count": null,
   "metadata": {},
   "outputs": [],
   "source": [
    "val_no_sample_dl = DataLoader(val_ds, bs, transpose=True, num_workers=1, pad_idx=1)\n",
    "preds = predict(learn.model, dl_pred)\n",
    "result = np.apply_along_axis(softmax, 1, preds)[:, 1]"
   ]
  },
  {
   "cell_type": "code",
   "execution_count": null,
   "metadata": {},
   "outputs": [],
   "source": [
    "thr = 0.68 # threshold after whisch to consider article irrelevant\n",
    "print(sklearn.metrics.classification_report(y_pred=result > thr,\n",
    "                                            y_true=ru_val_lab[:, -1],\n",
    "                                            labels=[1,0]))\n",
    "\n",
    "cm = sklearn.metrics.confusion_matrix(y_pred=result > thr,\n",
    "                                      y_true=ru_val_lab[:, -1],\n",
    "                                      labels=[1,0])\n",
    "\n",
    "cm / cm.sum(1)[:, None]"
   ]
  },
  {
   "cell_type": "markdown",
   "metadata": {
    "heading_collapsed": true
   },
   "source": [
    "### uk"
   ]
  },
  {
   "cell_type": "code",
   "execution_count": 14,
   "metadata": {
    "hidden": true
   },
   "outputs": [],
   "source": [
    "CLAS_PATH = Path('uk/')\n",
    "# reads and saves models from this forlder / models"
   ]
  },
  {
   "cell_type": "code",
   "execution_count": 15,
   "metadata": {
    "hidden": true
   },
   "outputs": [],
   "source": [
    "bptt,em_sz,nh,nl = 70,400,1150,3 # bptt - numper of tokens that model prosesses at once; em - embedding size\n",
    "# nh - n of cells in LSTM layers in pre-trained language model\n",
    "# nl - n of LSTM layers in language model\n",
    "vs = len(itos_uk) # len of token dictionary\n",
    "bs = 32 # batch size - reduce in case of memory error\n",
    "c = 2 # n of categories"
   ]
  },
  {
   "cell_type": "code",
   "execution_count": null,
   "metadata": {
    "hidden": true
   },
   "outputs": [],
   "source": [
    "trn_ds = TextDataset(uktrn_ids, uktrn_lab[:, -1])\n",
    "val_ds = TextDataset(ukval_ids, ukval_lab[:, -1])\n",
    "trn_samp = SortishSampler(uktrn_ids, key=lambda x: len(uktrn_ids[x]), bs=bs//2)\n",
    "val_samp = SortSampler(ukval_ids, key=lambda x: len(ukval_ids[x]))\n",
    "trn_dl = DataLoader(trn_ds, bs//2, transpose=True, num_workers=1, pad_idx=1, sampler=trn_samp)\n",
    "val_dl = DataLoader(val_ds, bs, transpose=True, num_workers=1, pad_idx=1, sampler=val_samp)\n",
    "md = ModelData(CLAS_PATH, trn_dl, val_dl)"
   ]
  },
  {
   "cell_type": "code",
   "execution_count": null,
   "metadata": {
    "hidden": true
   },
   "outputs": [],
   "source": [
    "dps = np.array([0.4,0.5,0.05,0.3,0.4])*0.6 # dropouts for each level, increased comparing to default\n",
    "\n",
    "# model definition\n",
    "m = get_rnn_classifier(bptt, 25*70, c, vs, emb_sz=em_sz,\n",
    "                       n_hid=nh, n_layers=nl,\n",
    "                       pad_token=1, #token for padding\n",
    "                       #final layer. max and average pooling of LSTM states, and the last state\n",
    "                       layers=[em_sz*3, 50, c], \n",
    "                       # dropouts\n",
    "                       drops=[dps[4], 0.2],\n",
    "                       dropouti=dps[0],\n",
    "                       wdrop=dps[1],\n",
    "                       dropoute=dps[2],\n",
    "                       dropouth=dps[3])\n",
    "\n",
    "opt_fn = partial(optim.Adam, betas=(0.7, 0.99)) # Adam optimizer\n",
    "\n",
    "learn = RNN_Learner(md, TextModel(to_gpu(m)), opt_fn=opt_fn)\n",
    "learn.reg_fn = partial(seq2seq_reg, alpha=2, beta=1)\n",
    "learn.clip=25. # maximum value of weights, left as default\n",
    "learn.metrics = [accuracy]"
   ]
  },
  {
   "cell_type": "code",
   "execution_count": null,
   "metadata": {
    "hidden": true
   },
   "outputs": [],
   "source": [
    "# learning rates\n",
    "lr=3e-3\n",
    "lrs=np.array([1e-4,1e-4,1e-4,1e-3,1e-2])\n",
    "\n",
    "wd = 1e-7 # weight decay\n",
    "learn.load_encoder('fwd_uk_finetuned_lm_enc')\n",
    "learn.freeze_to(-1) # freeze all layers, except for the last feed-dorward one"
   ]
  },
  {
   "cell_type": "code",
   "execution_count": null,
   "metadata": {
    "hidden": true
   },
   "outputs": [],
   "source": [
    "# finds the best learning rate\n",
    "learn.lr_find(lrs/1000)\n",
    "learn.sched.plot()"
   ]
  },
  {
   "cell_type": "code",
   "execution_count": null,
   "metadata": {
    "hidden": true
   },
   "outputs": [],
   "source": [
    "# training. 'use_wd_sched' tweaks weight regularisation, as described here\n",
    "# https://forums.fast.ai/t/new-adamw-optimizer-now-available/8518\n",
    "# clr decreases learning rate during training\n",
    "learn.fit(lrs, 1, wds=wd, cycle_len=1, use_clr=(8, 3), use_wd_sched=True)\n",
    "learn.sched.plot_loss()\n",
    "learn.save('uk_test_other_0')"
   ]
  },
  {
   "cell_type": "code",
   "execution_count": null,
   "metadata": {
    "hidden": true
   },
   "outputs": [],
   "source": [
    "learn.load('uk_test_other_0')\n",
    "learn.freeze_to(-2) # more unfreezing\n",
    "\n",
    "learn.fit(lrs, 1, wds=wd, cycle_len=1, use_clr=(8,3), use_wd_sched=True)\n",
    "learn.sched.plot_loss()\n",
    "learn.save('uk_test_other_1')"
   ]
  },
  {
   "cell_type": "code",
   "execution_count": null,
   "metadata": {
    "hidden": true
   },
   "outputs": [],
   "source": [
    "learn.load('uk_test_other_1')\n",
    "learn.unfreeze()\n",
    "\n",
    "learn.fit(lrs, 1, wds=wd, cycle_len=3, use_clr=(32,10), use_wd_sched=True)\n",
    "learn.sched.plot_loss()\n",
    "learn.save('uk_test_other_2')"
   ]
  },
  {
   "cell_type": "markdown",
   "metadata": {
    "hidden": true
   },
   "source": [
    "#### check"
   ]
  },
  {
   "cell_type": "code",
   "execution_count": null,
   "metadata": {
    "hidden": true
   },
   "outputs": [],
   "source": [
    "val_no_sample_dl = DataLoader(val_ds, bs, transpose=True, num_workers=1, pad_idx=1)\n",
    "preds = predict(learn.model, dl_pred)\n",
    "result = np.apply_along_axis(softmax, 1, preds)[:, 1]"
   ]
  },
  {
   "cell_type": "code",
   "execution_count": null,
   "metadata": {
    "hidden": true
   },
   "outputs": [],
   "source": [
    "thr = 0.55 # threshold after whisch to consider article irrelevant\n",
    "print(sklearn.metrics.classification_report(y_pred=result > thr,\n",
    "                                            y_true=uk_val_lab[:, -1],\n",
    "                                            labels=[1,0]))\n",
    "\n",
    "cm = sklearn.metrics.confusion_matrix(y_pred=result > thr,\n",
    "                                      y_true=uk_val_lab[:, -1],\n",
    "                                      labels=[1,0])\n",
    "\n",
    "cm / cm.sum(1)[:, None]"
   ]
  },
  {
   "cell_type": "markdown",
   "metadata": {},
   "source": [
    "## Manipulations classifier"
   ]
  },
  {
   "cell_type": "code",
   "execution_count": 16,
   "metadata": {},
   "outputs": [],
   "source": [
    "# multilabel output layer\n",
    "# from https://forums.fast.ai/t/multilabel-classification-with-ulmfit/19809/3\n",
    "class MultiLabelClassifier(nn.Module):\n",
    "    def __init__(self, y_range=None):\n",
    "        super().__init__()\n",
    "        self.y_range = y_range\n",
    "    \n",
    "    def forward(self, input):\n",
    "        x, raw_outputs, outputs = input\n",
    "        x = F.sigmoid(x)\n",
    "        # no y_range here\n",
    "        if (self.y_range):\n",
    "            x = x * (self.y_range[1] - self.y_range[0])\n",
    "            x = x + self.y_range[0]\n",
    "        return x, raw_outputs, outputs"
   ]
  },
  {
   "cell_type": "code",
   "execution_count": 17,
   "metadata": {},
   "outputs": [],
   "source": [
    "bptt,em_sz,nh,nl = 70,400,1150,3\n",
    "opt_fn = partial(optim.Adam, betas=(0.8, 0.99))\n",
    "bs = 8"
   ]
  },
  {
   "cell_type": "markdown",
   "metadata": {},
   "source": [
    "### uk"
   ]
  },
  {
   "cell_type": "code",
   "execution_count": 18,
   "metadata": {},
   "outputs": [],
   "source": [
    "CLAS_PATH = Path('uk/')\n",
    "vs = len(itos_uk)"
   ]
  },
  {
   "cell_type": "code",
   "execution_count": 34,
   "metadata": {},
   "outputs": [
    {
     "name": "stdout",
     "output_type": "stream",
     "text": [
      "Counter({False: 1768, True: 1017})\n"
     ]
    }
   ],
   "source": [
    "# filter out irrelevant articles\n",
    "rel_uk_trn_ids0 = uk_trn_ids[uk_trn_lab[:, -1] == 0]\n",
    "rel_uk_trn_lab0 = uk_trn_lab[uk_trn_lab[:, -1] == 0, :-1]\n",
    "rel_uk_val_ids = uk_val_ids[uk_val_lab[:, -1] == 0]\n",
    "rel_uk_val_lab = uk_val_lab[uk_val_lab[:, -1] == 0, :-1]\n",
    "\n",
    "# Multiply manipulative texts to balance training set\n",
    "rel_uk_trn_ids = np.hstack([rel_uk_trn_ids0,\n",
    "                      rel_uk_trn_ids0[rel_uk_trn_lab0.any(1)],\n",
    "                      rel_uk_trn_ids0[rel_uk_trn_lab0.any(1)],])\n",
    "\n",
    "rel_uk_trn_lab = np.vstack([rel_uk_trn_lab0,\n",
    "                        rel_uk_trn_lab0[rel_uk_trn_lab0.any(1)],\n",
    "                        rel_uk_trn_lab0[rel_uk_trn_lab0.any(1)],])\n",
    "\n",
    "print(Counter(rel_uk_trn_lab.any(1)))\n",
    "# mix multiplied examples\n",
    "perm = np.random.permutation(len(rel_uk_trn_ids))\n",
    "rel_uk_trn_ids = rel_uk_trn_ids[perm]\n",
    "rel_uk_trn_lab = rel_uk_trn_lab[perm]"
   ]
  },
  {
   "cell_type": "code",
   "execution_count": 35,
   "metadata": {},
   "outputs": [],
   "source": [
    "c = 2\n",
    "trn_ds = TextDataset(rel_uk_trn_ids, rel_uk_trn_lab.astype(np.float64))\n",
    "val_ds = TextDataset(rel_uk_val_ids, rel_uk_val_lab.astype(np.float64))\n",
    "trn_samp = SortishSampler(rel_uk_trn_ids, key=lambda x: len(rel_uk_trn_ids[x]), bs=bs//2)\n",
    "val_samp = SortSampler(rel_uk_val_ids, key=lambda x: len(rel_uk_val_ids[x]))\n",
    "trn_dl = DataLoader(trn_ds, bs//2, transpose=True, num_workers=1, pad_idx=1, sampler=trn_samp)\n",
    "val_dl = DataLoader(val_ds, bs, transpose=True, num_workers=1, pad_idx=1, sampler=val_samp)\n",
    "md = ModelData(CLAS_PATH, trn_dl, val_dl)"
   ]
  },
  {
   "cell_type": "code",
   "execution_count": 36,
   "metadata": {
    "code_folding": []
   },
   "outputs": [],
   "source": [
    "dps = np.array([0.4,0.5,0.05,0.3,0.4])*0.65\n",
    "\n",
    "m = get_rnn_classifier(bptt, 15*70, c, vs, emb_sz=em_sz,\n",
    "                       n_hid=nh, n_layers=nl,\n",
    "                       pad_token=1,\n",
    "                       layers=[em_sz*3, 50, c],\n",
    "                       drops=[dps[4], 0.2],\n",
    "                       dropouti=dps[0],\n",
    "                       wdrop=dps[1],\n",
    "                       dropoute=dps[2],\n",
    "                       dropouth=dps[3])\n",
    "\n",
    "opt_fn = partial(optim.Adam, betas=(0.7, 0.99))\n",
    "\n",
    "learn = RNN_Learner(md, TextModel(to_gpu(m)), opt_fn=opt_fn)\n",
    "learn.reg_fn = partial(seq2seq_reg, alpha=2, beta=1)\n",
    "learn.clip=25.\n",
    "    \n",
    "learn.model.add_module('2', MultiLabelClassifier())\n",
    "# different loss function - for multilabel with sigmoid activation\n",
    "learn.crit = F.binary_cross_entropy\n",
    "learn.metrics = [accuracy_thresh(0.5)]"
   ]
  },
  {
   "cell_type": "code",
   "execution_count": 37,
   "metadata": {},
   "outputs": [],
   "source": [
    "lrs=np.array([1e-4,1e-4,1e-4,1e-3,1e-2])\n",
    "\n",
    "wd = 1e-7\n",
    "# wd = 0\n",
    "learn.load_encoder('fwd_uk_finetuned_lm_enc')\n",
    "learn.freeze_to(-1)"
   ]
  },
  {
   "cell_type": "code",
   "execution_count": 25,
   "metadata": {},
   "outputs": [
    {
     "data": {
      "application/vnd.jupyter.widget-view+json": {
       "model_id": "05270a10ac7140f99a21f33849438c19",
       "version_major": 2,
       "version_minor": 0
      },
      "text/plain": [
       "HBox(children=(IntProgress(value=0, description='Epoch', max=1), HTML(value='')))"
      ]
     },
     "metadata": {},
     "output_type": "display_data"
    },
    {
     "name": "stdout",
     "output_type": "stream",
     "text": [
      " 65%|██████▌   | 454/697 [03:04<02:20,  1.73it/s, loss=1.47] "
     ]
    }
   ],
   "source": [
    "learn.lr_find(1/1000)"
   ]
  },
  {
   "cell_type": "code",
   "execution_count": 26,
   "metadata": {},
   "outputs": [
    {
     "data": {
      "image/png": "[encoded data removed]",
      "text/plain": [
       "<Figure size 432x288 with 1 Axes>"
      ]
     },
     "metadata": {
      "needs_background": "light"
     },
     "output_type": "display_data"
    }
   ],
   "source": [
    "learn.sched.plot()"
   ]
  },
  {
   "cell_type": "code",
   "execution_count": null,
   "metadata": {},
   "outputs": [],
   "source": [
    "learn.fit(lrs, 1, wds=wd, cycle_len=1, use_clr=(8, 3), use_wd_sched=True)\n",
    "learn.sched.plot_loss()\n",
    "learn.save('uk_test_mult_0')"
   ]
  },
  {
   "cell_type": "code",
   "execution_count": null,
   "metadata": {},
   "outputs": [],
   "source": [
    "learn.load('uk_test_mult_0')\n",
    "learn.freeze_to(-2)\n",
    "learn.fit(lrs, 1, wds=wd, cycle_len=1, use_clr=(8, 3), use_wd_sched=True)\n",
    "learn.sched.plot_loss()\n",
    "learn.save('uk_test_mult_1')"
   ]
  },
  {
   "cell_type": "code",
   "execution_count": null,
   "metadata": {},
   "outputs": [],
   "source": [
    "learn.lr_find(lr / 1000)\n",
    "learn.sched.plot()\n",
    "# change learning rate after checking lr search.\n",
    "# Ideal value is somewhat before the moment of steep increase in loss"
   ]
  },
  {
   "cell_type": "code",
   "execution_count": null,
   "metadata": {},
   "outputs": [],
   "source": [
    "learn.load('uk_test_mult_1')\n",
    "learn.unfreeze()\n",
    "learn.fit(lrs/3, 1, wds=wd, cycle_len=1, use_clr=(32, 10), use_wd_sched=True)\n",
    "learn.sched.plot_loss()\n",
    "learn.save('uk_test_mult_2')"
   ]
  },
  {
   "cell_type": "markdown",
   "metadata": {},
   "source": [
    "#### check on test set\n",
    "\n",
    "test set is labeled by 2 annotators, the quality is much better, than of general trainig annotation"
   ]
  },
  {
   "cell_type": "code",
   "execution_count": 19,
   "metadata": {},
   "outputs": [
    {
     "data": {
      "text/plain": [
       "SequentialRNN(\n",
       "  (0): MultiBatchRNN(\n",
       "    (encoder): Embedding(40108, 400, padding_idx=1)\n",
       "    (encoder_with_dropout): EmbeddingDropout(\n",
       "      (embed): Embedding(40108, 400, padding_idx=1)\n",
       "    )\n",
       "    (rnns): ModuleList(\n",
       "      (0): WeightDrop(\n",
       "        (module): LSTM(400, 1150)\n",
       "      )\n",
       "      (1): WeightDrop(\n",
       "        (module): LSTM(1150, 1150)\n",
       "      )\n",
       "      (2): WeightDrop(\n",
       "        (module): LSTM(1150, 400)\n",
       "      )\n",
       "    )\n",
       "    (dropouti): LockedDropout(\n",
       "    )\n",
       "    (dropouths): ModuleList(\n",
       "      (0): LockedDropout(\n",
       "      )\n",
       "      (1): LockedDropout(\n",
       "      )\n",
       "      (2): LockedDropout(\n",
       "      )\n",
       "    )\n",
       "  )\n",
       "  (1): PoolingLinearClassifier(\n",
       "    (layers): ModuleList(\n",
       "      (0): LinearBlock(\n",
       "        (lin): Linear(in_features=1200, out_features=50, bias=True)\n",
       "        (drop): Dropout(p=0)\n",
       "        (bn): BatchNorm1d(1200, eps=1e-05, momentum=0.1, affine=True)\n",
       "      )\n",
       "      (1): LinearBlock(\n",
       "        (lin): Linear(in_features=50, out_features=2, bias=True)\n",
       "        (drop): Dropout(p=0)\n",
       "        (bn): BatchNorm1d(50, eps=1e-05, momentum=0.1, affine=True)\n",
       "      )\n",
       "    )\n",
       "  )\n",
       ")"
      ]
     },
     "execution_count": 19,
     "metadata": {},
     "output_type": "execute_result"
    }
   ],
   "source": [
    "m_pred = get_rnn_classifer(bptt, 25*70, 2, vs,\n",
    "                           emb_sz=em_sz, n_hid=nh, n_layers=nl, pad_token=1,\n",
    "                           drops=[0,0],\n",
    "                           layers=[em_sz*3, 50, c])\n",
    "\n",
    "load_model(m_pred, 'uk/models/uk_emo_arg_cls.h5')\n",
    "\n",
    "m_pred.cuda()\n",
    "m_pred.eval()"
   ]
  },
  {
   "cell_type": "code",
   "execution_count": 20,
   "metadata": {},
   "outputs": [],
   "source": [
    "df_uk_test = pd.read_json('uk_test_set.jl', lines=True)\n",
    "df_uk_test = df_uk_test.loc[(df_uk_test.other_check == 0)\n",
    "                            & df_uk_test.is_emo.notnull()\n",
    "                           ].copy()"
   ]
  },
  {
   "cell_type": "code",
   "execution_count": 21,
   "metadata": {},
   "outputs": [],
   "source": [
    "ds = TextDataset(df_uk_test.word_ids.values, df_uk_test[['emo_check', 'arg_check']].values.astype(int))\n",
    "dl = DataLoader(ds, batch_size=8, transpose=True, num_workers=3, pad_idx=1)\n",
    "pred = predict(m_pred, dl)\n",
    "result = sigmv(pred)"
   ]
  },
  {
   "cell_type": "code",
   "execution_count": 25,
   "metadata": {},
   "outputs": [
    {
     "name": "stdout",
     "output_type": "stream",
     "text": [
      "             precision    recall  f1-score   support\n",
      "\n",
      "          1       0.52      0.39      0.45        28\n",
      "          0       0.92      0.95      0.94       216\n",
      "\n",
      "avg / total       0.88      0.89      0.88       244\n",
      "\n",
      "emotionality \n",
      " [[0.39286 0.60714]\n",
      " [0.0463  0.9537 ]] \n",
      " [[ 11  17]\n",
      " [ 10 206]]\n",
      "             precision    recall  f1-score   support\n",
      "\n",
      "          1       0.50      0.31      0.38        26\n",
      "          0       0.92      0.96      0.94       218\n",
      "\n",
      "avg / total       0.88      0.89      0.88       244\n",
      "\n",
      "argumentation \n",
      " [[0.30769 0.69231]\n",
      " [0.0367  0.9633 ]] \n",
      " [[  8  18]\n",
      " [  8 210]]\n"
     ]
    }
   ],
   "source": [
    "thr = 0.42 # threshold after which to consider article emotional\n",
    "print(sklearn.metrics.classification_report(y_pred=result[:, 0] > thr,\n",
    "                                            y_true=df_uk_test.emo_check,\n",
    "                                            labels=[1,0]))\n",
    "\n",
    "cm = sklearn.metrics.confusion_matrix(y_pred=result[:, 0] > thr,\n",
    "                                      y_true=df_uk_test.emo_check,\n",
    "                                      labels=[1,0])\n",
    "\n",
    "print('emotionality', '\\n', cm / cm.sum(1)[:, None], '\\n', cm)\n",
    "\n",
    "thr = 0.45 # threshold after which to consider article false argumentation\n",
    "print(sklearn.metrics.classification_report(y_pred=result[:, 1] > thr,\n",
    "                                            y_true=df_uk_test.arg_check,\n",
    "                                            labels=[1,0]))\n",
    "\n",
    "cm = sklearn.metrics.confusion_matrix(y_pred=result[:, 1] > thr,\n",
    "                                      y_true=df_uk_test.arg_check,\n",
    "                                      labels=[1,0])\n",
    "\n",
    "print('argumentation', '\\n', cm / cm.sum(1)[:, None], '\\n', cm)"
   ]
  },
  {
   "cell_type": "markdown",
   "metadata": {},
   "source": [
    "### ru"
   ]
  },
  {
   "cell_type": "code",
   "execution_count": 42,
   "metadata": {},
   "outputs": [],
   "source": [
    "CLAS_PATH = Path('ru/')\n",
    "vs = len(itos_ru)"
   ]
  },
  {
   "cell_type": "code",
   "execution_count": 82,
   "metadata": {},
   "outputs": [
    {
     "name": "stdout",
     "output_type": "stream",
     "text": [
      "Counter({False: 6780, True: 6058})\n"
     ]
    }
   ],
   "source": [
    "# filter out irrelevant articles\n",
    "rel_ru_trn_ids0 = ru_trn_ids[ru_trn_lab[:, -1] == 0]\n",
    "rel_ru_trn_lab0 = ru_trn_lab[ru_trn_lab[:, -1] == 0, :-1]\n",
    "rel_ru_val_ids = ru_val_ids[ru_val_lab[:, -1] == 0]\n",
    "rel_ru_val_lab = ru_val_lab[ru_val_lab[:, -1] == 0, :-1]\n",
    "\n",
    "# Multiply manipulative texts to balance training set\n",
    "rel_ru_trn_ids = np.hstack([rel_ru_trn_ids0,\n",
    "                            rel_ru_trn_ids0[rel_ru_trn_lab0.any(1)],])\n",
    "\n",
    "rel_ru_trn_lab = np.vstack([rel_ru_trn_lab0,\n",
    "                            rel_ru_trn_lab0[rel_ru_trn_lab0.any(1)]\n",
    "                           ])\n",
    "\n",
    "print(Counter(rel_ru_trn_lab.any(1)))\n",
    "# mix multiplied examples\n",
    "perm = np.random.permutation(len(rel_ru_trn_ids))\n",
    "rel_ru_trn_ids = rel_ru_trn_ids[perm]\n",
    "rel_ru_trn_lab = rel_ru_trn_lab[perm]"
   ]
  },
  {
   "cell_type": "code",
   "execution_count": 83,
   "metadata": {},
   "outputs": [],
   "source": [
    "c = 2\n",
    "trn_ds = TextDataset(rel_ru_trn_ids, rel_ru_trn_lab)\n",
    "val_ds = TextDataset(rel_ru_val_ids, rel_ru_val_lab)\n",
    "trn_samp = SortishSampler(rel_ru_trn_ids, key=lambda x: len(rel_ru_trn_ids[x]), bs=bs//2)\n",
    "val_samp = SortSampler(rel_ru_val_ids, key=lambda x: len(rel_ru_val_ids[x]))\n",
    "trn_dl = DataLoader(trn_ds, bs//2, transpose=True, num_workers=1, pad_idx=1, sampler=trn_samp)\n",
    "val_dl = DataLoader(val_ds, bs, transpose=True, num_workers=1, pad_idx=1, sampler=val_samp)\n",
    "md = ModelData(CLAS_PATH, trn_dl, val_dl)"
   ]
  },
  {
   "cell_type": "code",
   "execution_count": 84,
   "metadata": {},
   "outputs": [],
   "source": [
    "dps = np.array([0.4,0.5,0.05,0.3,0.4])*0.55\n",
    "\n",
    "m = get_rnn_classifier(bptt, 25*70, c, vs, emb_sz=em_sz,\n",
    "                       n_hid=nh, n_layers=nl,\n",
    "                       pad_token=1,\n",
    "                       layers=[em_sz*3, 50, c],\n",
    "                       drops=[dps[4], 0.2],\n",
    "                       dropouti=dps[0],\n",
    "                       wdrop=dps[1],\n",
    "                       dropoute=dps[2],\n",
    "                       dropouth=dps[3])\n",
    "\n",
    "opt_fn = partial(optim.Adam, betas=(0.7, 0.99))\n",
    "\n",
    "learn = RNN_Learner(md, TextModel(to_gpu(m)), opt_fn=opt_fn)\n",
    "learn.reg_fn = partial(seq2seq_reg, alpha=2, beta=1)\n",
    "learn.clip=25.\n",
    "    \n",
    "learn.model.add_module('2', MultiLabelClassifier())\n",
    "# different loss function - for multilabel with sigmoid activation\n",
    "learn.crit = F.binary_cross_entropy\n",
    "learn.metrics = [accuracy_thresh(0.5)]"
   ]
  },
  {
   "cell_type": "code",
   "execution_count": 56,
   "metadata": {},
   "outputs": [],
   "source": [
    "??MultiBatchRNN"
   ]
  },
  {
   "cell_type": "code",
   "execution_count": null,
   "metadata": {},
   "outputs": [],
   "source": [
    "lrs=np.array([1e-4,1e-4,1e-4,1e-3,1e-2])\n",
    "\n",
    "wd = 1e-7\n",
    "# wd = 0\n",
    "learn.load_encoder('fwd_ru_finetuned_lm_enc')\n",
    "learn.freeze_to(-1)"
   ]
  },
  {
   "cell_type": "code",
   "execution_count": null,
   "metadata": {},
   "outputs": [],
   "source": [
    "learn.fit(lrs, 1, wds=wd, cycle_len=1, use_clr=(8, 3), use_wd_sched=True)\n",
    "learn.sched.plot_loss()\n",
    "learn.save('ru_test_mult_0')"
   ]
  },
  {
   "cell_type": "code",
   "execution_count": null,
   "metadata": {},
   "outputs": [],
   "source": [
    "learn.load('ru_test_mult_0')\n",
    "learn.freeze_to(-2)\n",
    "learn.fit(lrs, 1, wds=wd, cycle_len=1, use_clr=(8, 3), use_wd_sched=True)\n",
    "learn.sched.plot_loss()\n",
    "learn.save('ru_test_mult_1')"
   ]
  },
  {
   "cell_type": "code",
   "execution_count": null,
   "metadata": {},
   "outputs": [],
   "source": [
    "learn.load('ru_test_mult_1')\n",
    "learn.unfreeze()\n",
    "learn.fit(lrs, 1, wds=wd, cycle_len=1, use_clr=(8, 3), use_wd_sched=True)\n",
    "learn.sched.plot_loss()\n",
    "learn.save('ru_test_mult_2')"
   ]
  },
  {
   "cell_type": "markdown",
   "metadata": {},
   "source": [
    "#### predict"
   ]
  },
  {
   "cell_type": "code",
   "execution_count": 43,
   "metadata": {},
   "outputs": [
    {
     "data": {
      "text/plain": [
       "SequentialRNN(\n",
       "  (0): MultiBatchRNN(\n",
       "    (encoder): Embedding(60002, 400, padding_idx=1)\n",
       "    (encoder_with_dropout): EmbeddingDropout(\n",
       "      (embed): Embedding(60002, 400, padding_idx=1)\n",
       "    )\n",
       "    (rnns): ModuleList(\n",
       "      (0): WeightDrop(\n",
       "        (module): LSTM(400, 1150)\n",
       "      )\n",
       "      (1): WeightDrop(\n",
       "        (module): LSTM(1150, 1150)\n",
       "      )\n",
       "      (2): WeightDrop(\n",
       "        (module): LSTM(1150, 400)\n",
       "      )\n",
       "    )\n",
       "    (dropouti): LockedDropout(\n",
       "    )\n",
       "    (dropouths): ModuleList(\n",
       "      (0): LockedDropout(\n",
       "      )\n",
       "      (1): LockedDropout(\n",
       "      )\n",
       "      (2): LockedDropout(\n",
       "      )\n",
       "    )\n",
       "  )\n",
       "  (1): PoolingLinearClassifier(\n",
       "    (layers): ModuleList(\n",
       "      (0): LinearBlock(\n",
       "        (lin): Linear(in_features=1200, out_features=50, bias=True)\n",
       "        (drop): Dropout(p=0)\n",
       "        (bn): BatchNorm1d(1200, eps=1e-05, momentum=0.1, affine=True)\n",
       "      )\n",
       "      (1): LinearBlock(\n",
       "        (lin): Linear(in_features=50, out_features=2, bias=True)\n",
       "        (drop): Dropout(p=0)\n",
       "        (bn): BatchNorm1d(50, eps=1e-05, momentum=0.1, affine=True)\n",
       "      )\n",
       "    )\n",
       "  )\n",
       ")"
      ]
     },
     "execution_count": 43,
     "metadata": {},
     "output_type": "execute_result"
    }
   ],
   "source": [
    "m_pred = get_rnn_classifer(bptt, 25*70, 2, vs,\n",
    "                           emb_sz=em_sz, n_hid=nh, n_layers=nl, pad_token=1,\n",
    "                           drops=[0,0],\n",
    "                           layers=[em_sz*3, 50, c])\n",
    "\n",
    "# load_model(m_pred, 'ru/models/ru_test_mult_2')\n",
    "load_model(m_pred, 'ru/models/ru_arg_emo_cls.h5')\n",
    "\n",
    "m_pred.cuda()\n",
    "m_pred.eval()"
   ]
  },
  {
   "cell_type": "code",
   "execution_count": 44,
   "metadata": {},
   "outputs": [],
   "source": [
    "df_ru_test = pd.read_json('ru_test_set.jl', lines=True)"
   ]
  },
  {
   "cell_type": "code",
   "execution_count": 45,
   "metadata": {},
   "outputs": [],
   "source": [
    "ds = TextDataset(df_ru_test.word_ids.values, df_ru_test[['emo_check', 'arg_check']].values.astype(int))\n",
    "dl = DataLoader(ds, batch_size=8, transpose=True, num_workers=3, pad_idx=1)\n",
    "pred = predict(m_pred, dl)\n",
    "result = sigmv(pred)"
   ]
  },
  {
   "cell_type": "code",
   "execution_count": 46,
   "metadata": {},
   "outputs": [
    {
     "name": "stdout",
     "output_type": "stream",
     "text": [
      "             precision    recall  f1-score   support\n",
      "\n",
      "          1       0.69      0.61      0.65       111\n",
      "          0       0.89      0.92      0.91       388\n",
      "\n",
      "avg / total       0.85      0.85      0.85       499\n",
      "\n",
      "emotionality \n",
      " [[0.61261 0.38739]\n",
      " [0.0799  0.9201 ]] \n",
      " [[ 68  43]\n",
      " [ 31 357]]\n",
      "             precision    recall  f1-score   support\n",
      "\n",
      "          1       0.77      0.55      0.64       136\n",
      "          0       0.85      0.94      0.89       363\n",
      "\n",
      "avg / total       0.83      0.83      0.82       499\n",
      "\n",
      "argumentation \n",
      " [[0.55147 0.44853]\n",
      " [0.06336 0.93664]] \n",
      " [[ 75  61]\n",
      " [ 23 340]]\n"
     ]
    }
   ],
   "source": [
    "thr = 0.36 # threshold after which to consider article irrelevant\n",
    "print(sklearn.metrics.classification_report(y_pred=result[:, 0] > thr,\n",
    "                                            y_true=df_ru_test.emo_check,\n",
    "                                            labels=[1,0]))\n",
    "\n",
    "cm = sklearn.metrics.confusion_matrix(y_pred=result[:, 0] > thr,\n",
    "                                      y_true=df_ru_test.emo_check,\n",
    "                                      labels=[1,0])\n",
    "\n",
    "print('emotionality', '\\n', cm / cm.sum(1)[:, None], '\\n', cm)\n",
    "\n",
    "thr = 0.55 # threshold after which to consider article irrelevant\n",
    "print(sklearn.metrics.classification_report(y_pred=result[:, 1] > thr,\n",
    "                                            y_true=df_ru_test.arg_check,\n",
    "                                            labels=[1,0]))\n",
    "\n",
    "cm = sklearn.metrics.confusion_matrix(y_pred=result[:, 1] > thr,\n",
    "                                      y_true=df_ru_test.arg_check,\n",
    "                                      labels=[1,0])\n",
    "\n",
    "print('argumentation', '\\n', cm / cm.sum(1)[:, None], '\\n', cm)"
   ]
  },
  {
   "cell_type": "code",
   "execution_count": null,
   "metadata": {},
   "outputs": [],
   "source": []
  }
 ],
 "metadata": {
  "kernelspec": {
   "display_name": "Python 3",
   "language": "python",
   "name": "python3"
  },
  "language_info": {
   "codemirror_mode": {
    "name": "ipython",
    "version": 3
   },
   "file_extension": ".py",
   "mimetype": "text/x-python",
   "name": "python",
   "nbconvert_exporter": "python",
   "pygments_lexer": "ipython3",
   "version": "3.6.6"
  },
  "toc": {
   "base_numbering": 1,
   "nav_menu": {},
   "number_sections": true,
   "sideBar": true,
   "skip_h1_title": false,
   "title_cell": "Table of Contents",
   "title_sidebar": "Contents",
   "toc_cell": false,
   "toc_position": {},
   "toc_section_display": true,
   "toc_window_display": false
  },
  "varInspector": {
   "cols": {
    "lenName": 16,
    "lenType": 16,
    "lenVar": 40
   },
   "kernels_config": {
    "python": {
     "delete_cmd_postfix": "",
     "delete_cmd_prefix": "del ",
     "library": "var_list.py",
     "varRefreshCmd": "print(var_dic_list())"
    },
    "r": {
     "delete_cmd_postfix": ") ",
     "delete_cmd_prefix": "rm(",
     "library": "var_list.r",
     "varRefreshCmd": "cat(var_dic_list()) "
    }
   },
   "types_to_exclude": [
    "module",
    "function",
    "builtin_function_or_method",
    "instance",
    "_Feature"
   ],
   "window_display": false
  }
 },
 "nbformat": 4,
 "nbformat_minor": 2
}
